{
 "cells": [
  {
   "cell_type": "code",
   "execution_count": 8,
   "metadata": {},
   "outputs": [
    {
     "name": "stdout",
     "output_type": "stream",
     "text": [
      "traits from father\n",
      "traits from mother\n",
      "traits of child\n"
     ]
    }
   ],
   "source": [
    "class father:\n",
    "    \n",
    "    def father_traits(self):\n",
    "        print(\"traits from father\")\n",
    "        \n",
    "class mother:\n",
    "    \n",
    "    def mother_traits(self):\n",
    "        print(\"traits from mother\")\n",
    "\n",
    "            \n",
    "class child(father, mother):\n",
    "    \n",
    "    def child_traits(self):\n",
    "        print(\"traits of child\") \n",
    "        \n",
    "\n",
    "child = child()\n",
    "child.father_traits()\n",
    "child.mother_traits()\n",
    "child.child_traits()"
   ]
  },
  {
   "cell_type": "code",
   "execution_count": 9,
   "metadata": {},
   "outputs": [
    {
     "name": "stdout",
     "output_type": "stream",
     "text": [
      "traits from father\n",
      "traits from mother\n",
      "traits of child\n",
      "traits from grandparents\n",
      "traits from parents\n"
     ]
    }
   ],
   "source": [
    "class father:\n",
    "    def father_traits(self):\n",
    "        print(\"traits from father\")\n",
    "\n",
    "class mother:\n",
    "    def mother_traits(self):\n",
    "        print(\"traits from mother\")\n",
    "\n",
    "class child(father, mother):\n",
    "    def child_traits(self):\n",
    "        print(\"traits of child\") \n",
    "\n",
    "class grandparents:\n",
    "    def grandparents_traits(self):\n",
    "        print(\"traits from grandparents\")\n",
    "\n",
    "class parent(grandparents):\n",
    "    def parent_traits(self):\n",
    "        print(\"traits from parents\")\n",
    "\n",
    "child_instance = child()\n",
    "child_instance.father_traits()       \n",
    "child_instance.mother_traits()       \n",
    "child_instance.child_traits()        \n",
    "\n",
    "parent_instance = parent()\n",
    "parent_instance.grandparents_traits()  \n",
    "parent_instance.parent_traits()        "
   ]
  },
  {
   "cell_type": "code",
   "execution_count": 10,
   "metadata": {},
   "outputs": [
    {
     "name": "stdout",
     "output_type": "stream",
     "text": [
      "Traits from A\n",
      "Traits from C\n"
     ]
    }
   ],
   "source": [
    "class A:\n",
    "    def show_a_traits(self):\n",
    "        print(\"Traits from A\")\n",
    "\n",
    "class B(A):\n",
    "    def show_b_traits(self):\n",
    "        print(\"Traits from B\")\n",
    "\n",
    "class C(A):\n",
    "    def show_c_traits(self):\n",
    "        print(\"Traits from C\")\n",
    "\n",
    "class D(B, C):\n",
    "    def show_d_traits(self):\n",
    "        print(\"Traits from D\")\n",
    "\n",
    "class E(D):\n",
    "    def show_e_traits(self):\n",
    "        print(\"Traits from E\")\n",
    "\n",
    "obj = C()\n",
    "obj.show_a_traits()  # From A\n",
    "obj.show_c_traits()  # From C\n"
   ]
  },
  {
   "cell_type": "code",
   "execution_count": 12,
   "metadata": {},
   "outputs": [
    {
     "name": "stdout",
     "output_type": "stream",
     "text": [
      "Processing credit card payment of $100 for card 1234-5678-9876-5432\n"
     ]
    }
   ],
   "source": [
    "from abc import ABC, abstractmethod\n",
    "\n",
    "class PaymentProcessor(ABC):\n",
    "    @abstractmethod\n",
    "    def process_payment(self, amount):\n",
    "        pass\n",
    "\n",
    "class CreditCardPayment(PaymentProcessor):\n",
    "    def __init__(self, card_number):\n",
    "        self.card_number = card_number\n",
    "\n",
    "    def process_payment(self, amount):\n",
    "        print(f\"Processing credit card payment of ${amount} for card {self.card_number}\")\n",
    "\n",
    "\n",
    "credit_card_payment = CreditCardPayment(\"1234-5678-9876-5432\")\n",
    "credit_card_payment.process_payment(100)\n",
    "\n"
   ]
  },
  {
   "cell_type": "code",
   "execution_count": 14,
   "metadata": {},
   "outputs": [
    {
     "name": "stdout",
     "output_type": "stream",
     "text": [
      "Processing credit card payment of $100 for card 1234-5678-9876-5432\n"
     ]
    }
   ],
   "source": [
    "from abc import ABC, abstractmethod\n",
    "\n",
    "# Base Class\n",
    "class PaymentProcessor(ABC):\n",
    "    @abstractmethod\n",
    "    def process_payment(self, amount):\n",
    "        pass\n",
    "\n",
    "class CreditCardPayment(PaymentProcessor):\n",
    "    def __init__(self, card_number):\n",
    "        self.card_number = card_number\n",
    "\n",
    "    def process_payment(self, amount):\n",
    "        print(f\"Processing credit card payment of ${amount} for card {self.card_number}\")\n",
    "\n",
    "# Polymorphic behavior: we can treat different payment processors the same way\n",
    "def process_payment_for_all(payment_processors, amount):\n",
    "    for processor in payment_processors:\n",
    "        processor.process_payment(amount)\n",
    "\n",
    "# Creating instances\n",
    "credit_card_payment = CreditCardPayment(\"1234-5678-9876-5432\")\n",
    "\n",
    "# Creating a list of payment processors\n",
    "payment_processors = [credit_card_payment]\n",
    "\n",
    "# Demonstrating Polymorphism\n",
    "process_payment_for_all(payment_processors, 100)\n"
   ]
  },
  {
   "cell_type": "code",
   "execution_count": 15,
   "metadata": {},
   "outputs": [
    {
     "name": "stdout",
     "output_type": "stream",
     "text": [
      "Area of circle: 78.5\n",
      "Area of rectangle: 20\n"
     ]
    }
   ],
   "source": [
    "class Shape:\n",
    "    def area(self):\n",
    "        pass\n",
    "\n",
    "class Circle(Shape):\n",
    "    def area(self, radius):\n",
    "        return 3.14 * radius * radius\n",
    "\n",
    "class Rectangle(Shape):\n",
    "    def area(self, length, breadth):\n",
    "        return length * breadth\n",
    "\n",
    "circle = Circle()\n",
    "rectangle = Rectangle()\n",
    "\n",
    "print(f\"Area of circle: {circle.area(5)}\")  \n",
    "print(f\"Area of rectangle: {rectangle.area(4, 5)}\")  \n"
   ]
  },
  {
   "cell_type": "code",
   "execution_count": 16,
   "metadata": {},
   "outputs": [
    {
     "name": "stdout",
     "output_type": "stream",
     "text": [
      "Initial balance: $1000\n",
      "Deposited $500. Current balance: $1500\n",
      "Withdrew $300. Current balance: $1200\n",
      "Final balance: $1200\n"
     ]
    }
   ],
   "source": [
    "class BankAccount:\n",
    "    def __init__(self, owner, balance=0):\n",
    "        self.owner = owner\n",
    "        self.__balance = balance  \n",
    "\n",
    "    def get_balance(self):\n",
    "        return self.__balance\n",
    "    \n",
    "    def deposit(self, amount):\n",
    "        if amount > 0:\n",
    "            self.__balance += amount\n",
    "            print(f\"Deposited ${amount}. Current balance: ${self.__balance}\")\n",
    "        else:\n",
    "            print(\"Deposit amount must be positive.\")\n",
    "\n",
    "    def withdraw(self, amount):\n",
    "        if 0 < amount <= self.__balance:\n",
    "            self.__balance -= amount\n",
    "            print(f\"Withdrew ${amount}. Current balance: ${self.__balance}\")\n",
    "        else:\n",
    "            print(\"Insufficient funds or invalid amount.\")\n",
    "\n",
    "account = BankAccount(\"John Doe\", 1000)\n",
    "\n",
    "print(f\"Initial balance: ${account.get_balance()}\")\n",
    "\n",
    "account.deposit(500)\n",
    "\n",
    "account.withdraw(300)\n",
    "\n",
    "\n",
    "print(f\"Final balance: ${account.get_balance()}\")\n"
   ]
  },
  {
   "cell_type": "code",
   "execution_count": null,
   "metadata": {},
   "outputs": [],
   "source": []
  }
 ],
 "metadata": {
  "kernelspec": {
   "display_name": "Python 3",
   "language": "python",
   "name": "python3"
  },
  "language_info": {
   "codemirror_mode": {
    "name": "ipython",
    "version": 3
   },
   "file_extension": ".py",
   "mimetype": "text/x-python",
   "name": "python",
   "nbconvert_exporter": "python",
   "pygments_lexer": "ipython3",
   "version": "3.12.3"
  }
 },
 "nbformat": 4,
 "nbformat_minor": 2
}
