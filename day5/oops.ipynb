{
 "cells": [
  {
   "cell_type": "code",
   "execution_count": 8,
   "metadata": {},
   "outputs": [
    {
     "name": "stdout",
     "output_type": "stream",
     "text": [
      "traits from father\n",
      "traits from mother\n",
      "traits of child\n"
     ]
    }
   ],
   "source": [
    "class father:\n",
    "    \n",
    "    def father_traits(self):\n",
    "        print(\"traits from father\")\n",
    "        \n",
    "class mother:\n",
    "    \n",
    "    def mother_traits(self):\n",
    "        print(\"traits from mother\")\n",
    "\n",
    "            \n",
    "class child(father, mother):\n",
    "    \n",
    "    def child_traits(self):\n",
    "        print(\"traits of child\") \n",
    "        \n",
    "\n",
    "child = child()\n",
    "child.father_traits()\n",
    "child.mother_traits()\n",
    "child.child_traits()"
   ]
  },
  {
   "cell_type": "code",
   "execution_count": 9,
   "metadata": {},
   "outputs": [
    {
     "name": "stdout",
     "output_type": "stream",
     "text": [
      "traits from father\n",
      "traits from mother\n",
      "traits of child\n",
      "traits from grandparents\n",
      "traits from parents\n"
     ]
    }
   ],
   "source": [
    "class father:\n",
    "    def father_traits(self):\n",
    "        print(\"traits from father\")\n",
    "\n",
    "class mother:\n",
    "    def mother_traits(self):\n",
    "        print(\"traits from mother\")\n",
    "\n",
    "class child(father, mother):\n",
    "    def child_traits(self):\n",
    "        print(\"traits of child\") \n",
    "\n",
    "class grandparents:\n",
    "    def grandparents_traits(self):\n",
    "        print(\"traits from grandparents\")\n",
    "\n",
    "class parent(grandparents):\n",
    "    def parent_traits(self):\n",
    "        print(\"traits from parents\")\n",
    "\n",
    "child_instance = child()\n",
    "child_instance.father_traits()       \n",
    "child_instance.mother_traits()       \n",
    "child_instance.child_traits()        \n",
    "\n",
    "parent_instance = parent()\n",
    "parent_instance.grandparents_traits()  \n",
    "parent_instance.parent_traits()        "
   ]
  },
  {
   "cell_type": "code",
   "execution_count": null,
   "metadata": {},
   "outputs": [],
   "source": []
  },
  {
   "cell_type": "code",
   "execution_count": null,
   "metadata": {},
   "outputs": [],
   "source": []
  },
  {
   "cell_type": "code",
   "execution_count": null,
   "metadata": {},
   "outputs": [],
   "source": []
  },
  {
   "cell_type": "code",
   "execution_count": null,
   "metadata": {},
   "outputs": [],
   "source": []
  },
  {
   "cell_type": "code",
   "execution_count": null,
   "metadata": {},
   "outputs": [],
   "source": []
  },
  {
   "cell_type": "code",
   "execution_count": null,
   "metadata": {},
   "outputs": [],
   "source": []
  },
  {
   "cell_type": "code",
   "execution_count": null,
   "metadata": {},
   "outputs": [],
   "source": []
  },
  {
   "cell_type": "code",
   "execution_count": null,
   "metadata": {},
   "outputs": [],
   "source": []
  },
  {
   "cell_type": "code",
   "execution_count": null,
   "metadata": {},
   "outputs": [],
   "source": []
  }
 ],
 "metadata": {
  "kernelspec": {
   "display_name": "Python 3",
   "language": "python",
   "name": "python3"
  },
  "language_info": {
   "codemirror_mode": {
    "name": "ipython",
    "version": 3
   },
   "file_extension": ".py",
   "mimetype": "text/x-python",
   "name": "python",
   "nbconvert_exporter": "python",
   "pygments_lexer": "ipython3",
   "version": "3.12.3"
  }
 },
 "nbformat": 4,
 "nbformat_minor": 2
}
