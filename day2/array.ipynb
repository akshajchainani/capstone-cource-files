{
 "cells": [
  {
   "cell_type": "code",
   "execution_count": 29,
   "metadata": {},
   "outputs": [
    {
     "name": "stdout",
     "output_type": "stream",
     "text": [
      "2\n"
     ]
    }
   ],
   "source": [
    "import array as array\n",
    "import numpy as np\n",
    "a = array.array('i', [1, 2, 3])\n",
    "print(a[1])\n"
   ]
  },
  {
   "cell_type": "code",
   "execution_count": 17,
   "metadata": {},
   "outputs": [
    {
     "name": "stdout",
     "output_type": "stream",
     "text": [
      "array('i', [1, 2, 3, 5])\n"
     ]
    }
   ],
   "source": [
    "a.append(5)\n",
    "print(a)"
   ]
  },
  {
   "cell_type": "code",
   "execution_count": 19,
   "metadata": {},
   "outputs": [
    {
     "data": {
      "text/plain": [
       "array('i', [1, 2, 3, 5, 5, 8, 5, 8])"
      ]
     },
     "execution_count": 19,
     "metadata": {},
     "output_type": "execute_result"
    }
   ],
   "source": [
    "a.extend([5,8])\n",
    "a"
   ]
  },
  {
   "cell_type": "code",
   "execution_count": 38,
   "metadata": {},
   "outputs": [
    {
     "name": "stdout",
     "output_type": "stream",
     "text": [
      "element at index 5: 60\n"
     ]
    }
   ],
   "source": [
    "import array as array\n",
    "\n",
    "arr = array.array('i', [10, 20, 30, 40, 50, 60])  \n",
    "\n",
    "index = 5\n",
    "if index < len(arr):  \n",
    "    print(f\"element at index {index}: {arr[index]}\")\n",
    "else:\n",
    "    print(f\"index {index} is out of range for the array.\")\n"
   ]
  },
  {
   "cell_type": "code",
   "execution_count": 41,
   "metadata": {},
   "outputs": [
    {
     "name": "stdout",
     "output_type": "stream",
     "text": [
      "After insertion: array('i', [10, 20, 30, 40, 50, 60, 4])\n"
     ]
    }
   ],
   "source": [
    "import array as arr\n",
    "abc = arr.array('i', [10, 20, 30, 40, 50, 60])\n",
    "\n",
    "abc.insert(7, 4)  \n",
    "\n",
    "print(\"After insertion:\", abc)\n"
   ]
  },
  {
   "cell_type": "code",
   "execution_count": 42,
   "metadata": {},
   "outputs": [
    {
     "name": "stdout",
     "output_type": "stream",
     "text": [
      "After insertion: array('i', [10, 20, 40, 50, 60])\n"
     ]
    }
   ],
   "source": [
    "import array as arr\n",
    "abc = arr.array('i', [10, 20, 30, 40, 50, 60])\n",
    "\n",
    "abc.remove(30)  \n",
    "\n",
    "print(\"After insertion:\", abc)\n"
   ]
  },
  {
   "cell_type": "code",
   "execution_count": 44,
   "metadata": {},
   "outputs": [
    {
     "name": "stdout",
     "output_type": "stream",
     "text": [
      "Value 40 found at index 3\n"
     ]
    }
   ],
   "source": [
    "import array as arr  \n",
    "\n",
    "abc = arr.array('i', [10, 20, 30, 40, 50, 60])\n",
    "\n",
    "search = 40\n",
    "\n",
    "try:\n",
    "    index = abc.index(40)\n",
    "    print(f\"Value {search} found at index {index}\")\n",
    "except ValueError:\n",
    "    print(f\"Value {search} not found in the array.\")\n"
   ]
  },
  {
   "cell_type": "code",
   "execution_count": 45,
   "metadata": {},
   "outputs": [
    {
     "name": "stdout",
     "output_type": "stream",
     "text": [
      "Original array: array('i', [10, 20, 30, 40, 50, 60])\n",
      "Reversed array: array('i', [60, 50, 40, 30, 20, 10])\n"
     ]
    }
   ],
   "source": [
    "import array as arr\n",
    "\n",
    "abc = arr.array('i', [10, 20, 30, 40, 50, 60])\n",
    "\n",
    "abc_r = abc[::-1]\n",
    "\n",
    "print(\"original :\", abc)\n",
    "print(\"reversed :\", abc_r)\n"
   ]
  },
  {
   "cell_type": "code",
   "execution_count": null,
   "metadata": {},
   "outputs": [],
   "source": []
  }
 ],
 "metadata": {
  "kernelspec": {
   "display_name": "Python 3",
   "language": "python",
   "name": "python3"
  },
  "language_info": {
   "codemirror_mode": {
    "name": "ipython",
    "version": 3
   },
   "file_extension": ".py",
   "mimetype": "text/x-python",
   "name": "python",
   "nbconvert_exporter": "python",
   "pygments_lexer": "ipython3",
   "version": "3.12.3"
  }
 },
 "nbformat": 4,
 "nbformat_minor": 2
}
