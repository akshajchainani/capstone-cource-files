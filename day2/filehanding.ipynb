{
 "cells": [
  {
   "cell_type": "code",
   "execution_count": 22,
   "metadata": {},
   "outputs": [
    {
     "name": "stdout",
     "output_type": "stream",
     "text": [
      "mera yashu yashu yashumera yashu yashu mera yashu \n",
      "mera yashu yashu yashumera yashu yashu mera yashu \n",
      "mera yashu yashu yashumera yashu yashu mera yashu \n",
      "mera yashu yashu yashumera yashu yashu mera yashu \n",
      "mera yashu yashu yashumera yashu yashu mera yashu \n",
      "mera yashu yashu yashumera yashu yashu mera yashu \n",
      "mera yashu yashu yashumera yashu yashu mera yashu \n",
      "mera yashu yashu yashumera yashu yashu mera yashu \n",
      "mera yashu yashu yashumera yashu yashu mera yashu \n",
      "\n"
     ]
    }
   ],
   "source": [
    "file = open(\"filehandling.txt\",\"r\")\n",
    "print(file.read())\n",
    "file.close()"
   ]
  },
  {
   "cell_type": "code",
   "execution_count": 23,
   "metadata": {},
   "outputs": [
    {
     "name": "stdout",
     "output_type": "stream",
     "text": [
      "mera yashu yashu yashumera yashu yashu mera yashu \n",
      "mera yashu ya\n"
     ]
    }
   ],
   "source": [
    "with open(\"filehandling.txt\",\"r\") as file:\n",
    "    content = file.read(64)\n",
    "    print(content)"
   ]
  },
  {
   "cell_type": "code",
   "execution_count": 24,
   "metadata": {},
   "outputs": [
    {
     "name": "stdout",
     "output_type": "stream",
     "text": [
      "mera yashu yashu yashumera yashu yashu mera yashu \n",
      "\n"
     ]
    }
   ],
   "source": [
    "with open(\"filehandling.txt\",\"r\") as file:\n",
    "    line = file.readline()\n",
    "    print(line)"
   ]
  },
  {
   "cell_type": "code",
   "execution_count": 35,
   "metadata": {},
   "outputs": [],
   "source": [
    "with open(\"example.txt\",\"w\") as file:\n",
    "    file.write(\"yashu di bale bale\\n\")\n",
    "    file.write(\"rakheya shaitan nu tu paira thalle.\")\n"
   ]
  },
  {
   "cell_type": "code",
   "execution_count": 36,
   "metadata": {},
   "outputs": [],
   "source": [
    "with open(\"example.txt\",\"r\") as source, open(\"destination.txt\",\"w\") as destination:\n",
    "    destination.write(source.read())"
   ]
  },
  {
   "cell_type": "code",
   "execution_count": 37,
   "metadata": {},
   "outputs": [],
   "source": [
    "import os.path\n",
    "os.remove(\"destination.txt\")"
   ]
  },
  {
   "cell_type": "code",
   "execution_count": 43,
   "metadata": {},
   "outputs": [
    {
     "name": "stdout",
     "output_type": "stream",
     "text": [
      "no shit\n"
     ]
    }
   ],
   "source": [
    "if os.path.exists(\"destitnation.txt\"):\n",
    "    print(\"yes ofcource\")\n",
    "else:\n",
    "    print(\"no shit\")    "
   ]
  },
  {
   "cell_type": "code",
   "execution_count": null,
   "metadata": {},
   "outputs": [],
   "source": []
  }
 ],
 "metadata": {
  "kernelspec": {
   "display_name": "Python 3",
   "language": "python",
   "name": "python3"
  },
  "language_info": {
   "codemirror_mode": {
    "name": "ipython",
    "version": 3
   },
   "file_extension": ".py",
   "mimetype": "text/x-python",
   "name": "python",
   "nbconvert_exporter": "python",
   "pygments_lexer": "ipython3",
   "version": "3.12.3"
  }
 },
 "nbformat": 4,
 "nbformat_minor": 2
}
