{
 "cells": [
  {
   "cell_type": "code",
   "execution_count": 22,
   "metadata": {},
   "outputs": [
    {
     "name": "stdout",
     "output_type": "stream",
     "text": [
      "mera yashu yashu yashumera yashu yashu mera yashu \n",
      "mera yashu yashu yashumera yashu yashu mera yashu \n",
      "mera yashu yashu yashumera yashu yashu mera yashu \n",
      "mera yashu yashu yashumera yashu yashu mera yashu \n",
      "mera yashu yashu yashumera yashu yashu mera yashu \n",
      "mera yashu yashu yashumera yashu yashu mera yashu \n",
      "mera yashu yashu yashumera yashu yashu mera yashu \n",
      "mera yashu yashu yashumera yashu yashu mera yashu \n",
      "mera yashu yashu yashumera yashu yashu mera yashu \n",
      "\n"
     ]
    }
   ],
   "source": [
    "file = open(\"filehandling.txt\",\"r\")\n",
    "print(file.read())\n",
    "file.close()"
   ]
  },
  {
   "cell_type": "code",
   "execution_count": 23,
   "metadata": {},
   "outputs": [
    {
     "name": "stdout",
     "output_type": "stream",
     "text": [
      "mera yashu yashu yashumera yashu yashu mera yashu \n",
      "mera yashu ya\n"
     ]
    }
   ],
   "source": [
    "with open(\"filehandling.txt\",\"r\") as file:\n",
    "    content = file.read(64)\n",
    "    print(content)"
   ]
  },
  {
   "cell_type": "code",
   "execution_count": 24,
   "metadata": {},
   "outputs": [
    {
     "name": "stdout",
     "output_type": "stream",
     "text": [
      "mera yashu yashu yashumera yashu yashu mera yashu \n",
      "\n"
     ]
    }
   ],
   "source": [
    "with open(\"filehandling.txt\",\"r\") as file:\n",
    "    line = file.readline()\n",
    "    print(line)"
   ]
  },
  {
   "cell_type": "code",
   "execution_count": 28,
   "metadata": {},
   "outputs": [],
   "source": [
    "with open(\"exmaple.txt\",\"w\") as file:\n",
    "    file.write(\"yashu di bale bale\")\n",
    "    file.write(\"rakheya shaitan nu tu paira thalle.\\n\")\n"
   ]
  },
  {
   "cell_type": "code",
   "execution_count": 26,
   "metadata": {},
   "outputs": [
    {
     "ename": "SyntaxError",
     "evalue": "expected ':' (656605322.py, line 1)",
     "output_type": "error",
     "traceback": [
      "\u001b[1;36m  Cell \u001b[1;32mIn[26], line 1\u001b[1;36m\u001b[0m\n\u001b[1;33m    with open\u001b[0m\n\u001b[1;37m              ^\u001b[0m\n\u001b[1;31mSyntaxError\u001b[0m\u001b[1;31m:\u001b[0m expected ':'\n"
     ]
    }
   ],
   "source": [
    "with open "
   ]
  }
 ],
 "metadata": {
  "kernelspec": {
   "display_name": "Python 3",
   "language": "python",
   "name": "python3"
  },
  "language_info": {
   "codemirror_mode": {
    "name": "ipython",
    "version": 3
   },
   "file_extension": ".py",
   "mimetype": "text/x-python",
   "name": "python",
   "nbconvert_exporter": "python",
   "pygments_lexer": "ipython3",
   "version": "3.12.3"
  }
 },
 "nbformat": 4,
 "nbformat_minor": 2
}
